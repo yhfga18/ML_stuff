{
  "nbformat": 4,
  "nbformat_minor": 0,
  "metadata": {
    "colab": {
      "name": "8_RNN_name_classification_10/15.ipynb",
      "provenance": [],
      "collapsed_sections": [],
      "include_colab_link": true
    },
    "kernelspec": {
      "name": "python3",
      "display_name": "Python 3"
    },
    "language_info": {
      "name": "python"
    },
    "accelerator": "GPU"
  },
  "cells": [
    {
      "cell_type": "markdown",
      "metadata": {
        "id": "view-in-github",
        "colab_type": "text"
      },
      "source": [
        "<a href=\"https://colab.research.google.com/github/yhfga18/ML_stuff/blob/main/8_RNN_name_classification_10_15.ipynb\" target=\"_parent\"><img src=\"https://colab.research.google.com/assets/colab-badge.svg\" alt=\"Open In Colab\"/></a>"
      ]
    },
    {
      "cell_type": "markdown",
      "metadata": {
        "id": "FfaiusHG95ur"
      },
      "source": [
        "# CLASSIFYING NAMES WITH A CHARACTER-LEVEL RNN\n",
        "\n",
        "Classify names into the country \n",
        "\n",
        "1. prepare data (one hot encoding)\n",
        "2. define RNN model \n",
        "3. train it \n",
        "4. try it yourself"
      ]
    },
    {
      "cell_type": "code",
      "metadata": {
        "id": "nP8PO-Zq7PYV"
      },
      "source": [
        "# Imports\n",
        "import torch\n",
        "import torchvision\n",
        "import torch.nn as nn # NN modules (nn.Linear, nn.Conv2d, BatchNorm, Loss functions)\n",
        "import torch.optim as optim # Optimization algorithms, SGD, Adam, etc\n",
        "import torch.nn.functional as F # Functions with no parameters (activation # Relu Tanh)\n",
        "from torch.utils.data import DataLoader # Gives easier dataset management and create mini batches\n",
        "import torchvision.datasets as datasets # Has standard datasets we can import in a nice way\n",
        "import torchvision.transforms as transforms # Transformations we can perform on our dataset"
      ],
      "execution_count": null,
      "outputs": []
    },
    {
      "cell_type": "code",
      "metadata": {
        "colab": {
          "base_uri": "https://localhost:8080/"
        },
        "id": "QgDIpXfp9dl_",
        "outputId": "39e769d6-600d-4d8c-fa1c-554a3eb2f68c"
      },
      "source": [
        "# *** line = name. sorry for confusion \n",
        "\n",
        "# Utility Functions\n",
        "# to convert all letters and unicode to ASCII \n",
        "# to convert letter, word, sentence to one hot encoding \n",
        "\n",
        "# data: https://download.pytorch.org/tutorial/data.zip\n",
        "import io\n",
        "import os\n",
        "import unicodedata\n",
        "import string\n",
        "import glob\n",
        "\n",
        "import torch\n",
        "import random\n",
        "\n",
        "\n",
        "# ===========================================================\n",
        "# Helper func for converting letters/unicode to ASCII \n",
        "\n",
        "\n",
        "# alphabet small + capital letters + \" .,;'\"\n",
        "ALL_LETTERS = string.ascii_letters + \" .,;'\"\n",
        "N_LETTERS = len(ALL_LETTERS)\n",
        "\n",
        "# Turn a Unicode string to plain ASCII, thanks to https://stackoverflow.com/a/518232/2809427\n",
        "def unicode_to_ascii(s):\n",
        "    return ''.join(\n",
        "        c for c in unicodedata.normalize('NFD', s)\n",
        "        if unicodedata.category(c) != 'Mn'\n",
        "        and c in ALL_LETTERS\n",
        "    )\n",
        "\n",
        "# ===========================================================\n",
        "# load data \n",
        "\n",
        "def load_data():\n",
        "    # Build the category_lines dictionary, a list of names per language\n",
        "    category_lines = {}\n",
        "    all_categories = []\n",
        "    \n",
        "    def find_files(path):\n",
        "        return glob.glob(path)\n",
        "    \n",
        "    # Read a file and split into lines\n",
        "    def read_lines(filename):\n",
        "        lines = io.open(filename, encoding='utf-8').read().strip().split('\\n')\n",
        "        return [unicode_to_ascii(line) for line in lines]\n",
        "    \n",
        "    for filename in find_files('name_data/*.txt'):\n",
        "        category = os.path.splitext(os.path.basename(filename))[0]\n",
        "        all_categories.append(category)\n",
        "        \n",
        "        lines = read_lines(filename)\n",
        "        category_lines[category] = lines\n",
        "        \n",
        "    return category_lines, all_categories\n",
        "\n",
        "\n",
        "# ===========================================================\n",
        "# one hot vector\n",
        "\n",
        "# To represent a single letter, we use a “one-hot vector” of size <1 x n_letters>. \n",
        "# A one-hot vector is filled with 0s except for a 1 at index of the current letter, e.g. \"b\" = <0 1 0 0 0 ...>.\n",
        "# To make a word, we join a bunch of those into a 2D matrix <line_length x 1 x n_letters>.\n",
        "# That extra 1 dimension is because PyTorch assumes everything is in batches - we’re just using a batch size of 1 here.\n",
        "\n",
        "\n",
        "# Find letter index from all_letters, e.g. \"a\" = 0\n",
        "def letter_to_index(letter):\n",
        "    return ALL_LETTERS.find(letter)\n",
        "\n",
        "# Turn a letter into a <1 x n_letters> Tensor\n",
        "def letter_to_tensor(letter):\n",
        "    tensor = torch.zeros(1, N_LETTERS)\n",
        "    tensor[0][letter_to_index(letter)] = 1\n",
        "    return tensor\n",
        "\n",
        "# Turn a line into a <line_length x 1 x n_letters>,\n",
        "# or an array of one-hot letter vectors\n",
        "def line_to_tensor(line):\n",
        "    tensor = torch.zeros(len(line), 1, N_LETTERS)\n",
        "    for i, letter in enumerate(line):\n",
        "        tensor[i][0][letter_to_index(letter)] = 1\n",
        "    return tensor\n",
        "\n",
        "def random_training_example(category_lines, all_categories):\n",
        "    \n",
        "    def random_choice(a):\n",
        "        random_idx = random.randint(0, len(a) - 1)\n",
        "        return a[random_idx]\n",
        "    \n",
        "    category = random_choice(all_categories)\n",
        "    line = random_choice(category_lines[category])\n",
        "    category_tensor = torch.tensor([all_categories.index(category)], dtype=torch.long)\n",
        "    line_tensor = line_to_tensor(line)\n",
        "    return category, line, category_tensor, line_tensor\n",
        "\n",
        "\n",
        "if __name__ == '__main__':\n",
        "    print(ALL_LETTERS)\n",
        "    print(unicode_to_ascii('Ślusàrski'))\n",
        "    \n",
        "    category_lines, all_categories = load_data()\n",
        "    print(category_lines['Italian'][:5])\n",
        "    # ['Abandonato', 'Abatangelo', 'Abatantuono', 'Abate', 'Abategiovanni']\n",
        "    \n",
        "    print(letter_to_tensor('J')) # [1, 57]\n",
        "    print(line_to_tensor('Jones').size()) # [5, 1, 57]\n"
      ],
      "execution_count": null,
      "outputs": [
        {
          "output_type": "stream",
          "name": "stdout",
          "text": [
            "abcdefghijklmnopqrstuvwxyzABCDEFGHIJKLMNOPQRSTUVWXYZ .,;'\n",
            "Slusarski\n",
            "['Abandonato', 'Abatangelo', 'Abatantuono', 'Abate', 'Abategiovanni']\n",
            "tensor([[0., 0., 0., 0., 0., 0., 0., 0., 0., 0., 0., 0., 0., 0., 0., 0., 0., 0.,\n",
            "         0., 0., 0., 0., 0., 0., 0., 0., 0., 0., 0., 0., 0., 0., 0., 0., 0., 1.,\n",
            "         0., 0., 0., 0., 0., 0., 0., 0., 0., 0., 0., 0., 0., 0., 0., 0., 0., 0.,\n",
            "         0., 0., 0.]])\n",
            "torch.Size([5, 1, 57])\n"
          ]
        }
      ]
    },
    {
      "cell_type": "code",
      "metadata": {
        "id": "1AcwAkbF9djr"
      },
      "source": [
        "import torch \n",
        "import torch.nn as NN\n",
        "import matplotlib.pyplot as plt"
      ],
      "execution_count": null,
      "outputs": []
    },
    {
      "cell_type": "code",
      "metadata": {
        "id": "-w1GVJTi9dhz"
      },
      "source": [
        "# implement RNN from scratch, although RNN module is available in pytorch\n",
        "class RNN(nn.Module):\n",
        "    def __init__(self, input_size, hidden_size, output_size):\n",
        "        super(RNN, self).__init__()\n",
        "\n",
        "        self.hidden_size = hidden_size\n",
        "\n",
        "        #i2h = input2hidden. input = input size + hidden size, output = hidden size\n",
        "        self.i2h = nn.Linear(input_size + hidden_size, hidden_size) \n",
        "        \n",
        "        #i20 = input2output. the same as above, except later apply Softmax\n",
        "        self.i2o = nn.Linear(input_size + hidden_size, output_size) \n",
        "        \n",
        "        self.softmax = nn.LogSoftmax(dim=1) # 1, 57\n",
        "\n",
        "    def forward(self, input_tensor, hidden_tensor):\n",
        "        combined = torch.cat((input_tensor, hidden_tensor), 1)\n",
        "\n",
        "        hidden = self.i2h(combined)\n",
        "        output = self.i2o(combined)\n",
        "        output = self.softmax(output)\n",
        "        return output, hidden\n",
        "\n",
        "    # need initial hidden at the first step \n",
        "    def init_hidden(self):\n",
        "        return torch.zeros(1, self.hidden_size)"
      ],
      "execution_count": null,
      "outputs": []
    },
    {
      "cell_type": "code",
      "metadata": {
        "id": "VfNkRNZB9dfh",
        "colab": {
          "base_uri": "https://localhost:8080/"
        },
        "outputId": "30e72a71-a134-4895-fa69-39d249427085"
      },
      "source": [
        "category_lines, all_categories = load_data()\n",
        "n_categories = len(all_categories)\n",
        "print(n_categories)"
      ],
      "execution_count": null,
      "outputs": [
        {
          "output_type": "stream",
          "name": "stdout",
          "text": [
            "18\n"
          ]
        }
      ]
    },
    {
      "cell_type": "code",
      "metadata": {
        "id": "rVxSpWS29ddm"
      },
      "source": [
        "# RNN(input_size, hidden_size, output_size)\n",
        "n_hidden = 128 # hyper parameter so somewhat arbitrary \n",
        "rnn = RNN(N_LETTERS, n_hidden, n_categories)"
      ],
      "execution_count": null,
      "outputs": []
    },
    {
      "cell_type": "code",
      "metadata": {
        "id": "e-9Ri-Wt9dbs",
        "colab": {
          "base_uri": "https://localhost:8080/"
        },
        "outputId": "d4f7d2dd-4d66-40a5-a8e7-fafce94e3e4b"
      },
      "source": [
        "# one single letter, one step\n",
        "\n",
        "input_tensor = letter_to_tensor('A')\n",
        "hidden_tensor = rnn.init_hidden()\n",
        "\n",
        "output, next_hidden = rnn(input_tensor, hidden_tensor)\n",
        "print(output.size())\n",
        "print(next_hidden.size())"
      ],
      "execution_count": null,
      "outputs": [
        {
          "output_type": "stream",
          "name": "stdout",
          "text": [
            "torch.Size([1, 18])\n",
            "torch.Size([1, 128])\n"
          ]
        }
      ]
    },
    {
      "cell_type": "code",
      "metadata": {
        "id": "4LL7EKlh9dZl",
        "colab": {
          "base_uri": "https://localhost:8080/"
        },
        "outputId": "d5b04a40-8d50-4116-c1fc-539ecbb6d25f"
      },
      "source": [
        "# one single line, one step\n",
        "\n",
        "input_tensor = line_to_tensor('John')\n",
        "hidden_tensor = rnn.init_hidden()\n",
        "\n",
        "output, next_hidden = rnn(input_tensor[0], hidden_tensor)\n",
        "print(output.size())\n",
        "print(next_hidden.size())"
      ],
      "execution_count": null,
      "outputs": [
        {
          "output_type": "stream",
          "name": "stdout",
          "text": [
            "torch.Size([1, 18])\n",
            "torch.Size([1, 128])\n"
          ]
        }
      ]
    },
    {
      "cell_type": "code",
      "metadata": {
        "id": "lDiY6MRO9dXi",
        "colab": {
          "base_uri": "https://localhost:8080/"
        },
        "outputId": "78d3a922-0b69-4fb6-b9a9-2953c162398a"
      },
      "source": [
        "# helper function to apply the model above to all characters in line\n",
        "\n",
        "# return the highest index of the output tensor (one-hot)\n",
        "def category_from_output(output):\n",
        "    category_idx = torch.argmax(output).item()\n",
        "    return all_categories[category_idx]\n",
        "\n",
        "print(category_from_output(output))"
      ],
      "execution_count": null,
      "outputs": [
        {
          "output_type": "stream",
          "name": "stdout",
          "text": [
            "Dutch\n"
          ]
        }
      ]
    },
    {
      "cell_type": "code",
      "metadata": {
        "id": "uL2OwI6D9dTa",
        "colab": {
          "base_uri": "https://localhost:8080/"
        },
        "outputId": "436d0116-a338-44f7-c935-67878c9d1098"
      },
      "source": [
        "# train the model \n",
        "\n",
        "loss_func = nn.NLLLoss()\n",
        "learning_rate = 0.005\n",
        "optimizer = torch.optim.SGD(rnn.parameters(), lr=learning_rate)\n",
        "\n",
        "\n",
        " # one traning step:\n",
        "\n",
        "# line_tensor = the name, category_tensor = class label\n",
        "def train(line_tensor, category_tensor):\n",
        "    hidden = rnn.init_hidden()\n",
        "\n",
        "    for i in range(line_tensor.size()[0]): # length of name \n",
        "        output, hidden = rnn(line_tensor[i], hidden) # current character & prev hidden\n",
        "\n",
        "    loss = loss_func(output, category_tensor)\n",
        "\n",
        "    optimizer.zero_grad()\n",
        "    loss.backward()\n",
        "    optimizer.step()\n",
        "\n",
        "    return output, loss.item()\n",
        "\n",
        "# typical training loop\n",
        "\n",
        "current_loss = 0\n",
        "all_losses = [] # to plot later\n",
        "plot_steps, print_steps = 1000, 5000\n",
        "n_iters = 100000 # num of iteration\n",
        "\n",
        "for i in range(n_iters):\n",
        "    # get random training sample \n",
        "    category, line, category_tensor, line_tensor = random_training_example(category_lines, all_categories)\n",
        "    \n",
        "    output, loss = train(line_tensor, category_tensor)\n",
        "    current_loss += loss\n",
        "\n",
        "    # for plotting \n",
        "    if (i+1) % plot_steps == 0:\n",
        "        all_losses.append(current_loss / plot_steps)\n",
        "        current_loss = 0\n",
        "    if (i+1) % print_steps == 0:\n",
        "        guess = category_from_output(output)\n",
        "        correct = \"Correct\" if guess == category else f\"WRONG ({category})\"\n",
        "        print(f\"{i} {i/n_iters*100} {loss:.4f} {line} / {guess} {correct}\")\n"
      ],
      "execution_count": null,
      "outputs": [
        {
          "output_type": "stream",
          "name": "stdout",
          "text": [
            "4999 4.999 2.3165 Haik / Korean WRONG (Arabic)\n",
            "9999 9.998999999999999 0.7541 Dai / Chinese Correct\n",
            "14999 14.999 1.5515 Zientek / Czech WRONG (Polish)\n",
            "19999 19.999 1.4438 Robert / Dutch WRONG (French)\n",
            "24999 24.999 2.6716 Ruda / Portuguese WRONG (Czech)\n",
            "29999 29.999 1.2302 Plikhin / Russian Correct\n",
            "34999 34.999 2.4682 Rush / German WRONG (English)\n",
            "39999 39.999 2.8155 Jamussa / Czech WRONG (Greek)\n",
            "44999 44.999 1.4656 Li / Vietnamese WRONG (Korean)\n",
            "49999 49.999 1.5590 Paisley / Irish WRONG (English)\n",
            "54999 54.998999999999995 3.5401 Russell / Dutch WRONG (Scottish)\n",
            "59999 59.999 1.6310 Konae / Japanese Correct\n",
            "64999 64.999 0.9099 Snaijer / Dutch Correct\n",
            "69999 69.999 2.8362 Manus / Arabic WRONG (Irish)\n",
            "74999 74.99900000000001 0.3226 Ribeiro / Portuguese Correct\n",
            "79999 79.999 1.6605 Maria / Spanish WRONG (Portuguese)\n",
            "84999 84.999 0.3930 Shammas / Arabic Correct\n",
            "89999 89.999 0.3900 Dinapoli / Italian Correct\n",
            "94999 94.999 2.4427 Pace / French WRONG (Italian)\n",
            "99999 99.99900000000001 1.8042 Cardozo / Spanish WRONG (Portuguese)\n"
          ]
        }
      ]
    },
    {
      "cell_type": "code",
      "metadata": {
        "id": "Va-41O489dRH",
        "colab": {
          "base_uri": "https://localhost:8080/",
          "height": 264
        },
        "outputId": "b8f08c7f-5661-4861-b0c8-fb96fb1b8edf"
      },
      "source": [
        "plt.figure()\n",
        "plt.plot(all_losses)\n",
        "plt.show()\n"
      ],
      "execution_count": null,
      "outputs": [
        {
          "output_type": "display_data",
          "data": {
            "image/png": "[encoded data removed]",
            "text/plain": [
              "<Figure size 432x288 with 1 Axes>"
            ]
          },
          "metadata": {
            "needs_background": "light"
          }
        }
      ]
    },
    {
      "cell_type": "code",
      "metadata": {
        "colab": {
          "base_uri": "https://localhost:8080/"
        },
        "id": "ZXZeEitwJ7Q6",
        "outputId": "6ff99ecc-986a-4b6a-bf9c-4fa13eafad98"
      },
      "source": [
        "def predict(input_line):\n",
        "    print(f\"\\n> {input_line}\")\n",
        "    with torch.no_grad():\n",
        "        line_tensor = line_to_tensor(input_line)\n",
        "\n",
        "        hidden = rnn.init_hidden()\n",
        "\n",
        "        for i in range(line_tensor.size()[0]): # length of name \n",
        "            output, hidden = rnn(line_tensor[i], hidden) # current character & prev hidden\n",
        "\n",
        "        guess = category_from_output(output)\n",
        "        print(guess)\n",
        "\n",
        "while True:\n",
        "    sentence = input(\"Input: \")\n",
        "    if sentence == \"quit\":\n",
        "        break\n",
        "    \n",
        "    predict(sentence)"
      ],
      "execution_count": null,
      "outputs": [
        {
          "name": "stdout",
          "output_type": "stream",
          "text": [
            "Input: Acker\n",
            "\n",
            "> Acker\n",
            "German\n",
            "Input: Adler\n",
            "\n",
            "> Adler\n",
            "German\n",
            "Input: Abba\n",
            "\n",
            "> Abba\n",
            "Japanese\n",
            "Input: Abbadelli\n",
            "\n",
            "> Abbadelli\n",
            "Italian\n",
            "Input: Abaimov\n",
            "\n",
            "> Abaimov\n",
            "Russian\n",
            "Input: Bao\n",
            "\n",
            "> Bao\n",
            "Chinese\n",
            "Input: Bai\n",
            "\n",
            "> Bai\n",
            "Chinese\n",
            "Input: Aodha\n",
            "\n",
            "> Aodha\n",
            "Arabic\n",
            "Input: quit\n"
          ]
        }
      ]
    },
    {
      "cell_type": "code",
      "metadata": {
        "id": "zVj68w3p9dM7"
      },
      "source": [],
      "execution_count": null,
      "outputs": []
    }
  ]
}